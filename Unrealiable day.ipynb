{
 "cells": [
  {
   "cell_type": "code",
   "execution_count": 2,
   "id": "8877c761",
   "metadata": {},
   "outputs": [],
   "source": [
    "import numpy as np # linear algebra\n",
    "import pandas as pd # data processing, CSV file I/O (e.g. pd.read_csv)}\n",
    "\n",
    "pd.options.display.max_rows = 100"
   ]
  },
  {
   "cell_type": "code",
   "execution_count": 3,
   "id": "bbe14ab9",
   "metadata": {},
   "outputs": [
    {
     "name": "stderr",
     "output_type": "stream",
     "text": [
      "C:\\Users\\bulsa\\AppData\\Local\\Temp\\ipykernel_17116\\3189259912.py:4: FutureWarning: The frame.append method is deprecated and will be removed from pandas in a future version. Use pandas.concat instead.\n",
      "  df_2017 = df.append( pd.read_csv('Final_project/2017.csv'))\n",
      "C:\\Users\\bulsa\\AppData\\Local\\Temp\\ipykernel_17116\\3189259912.py:6: FutureWarning: The frame.append method is deprecated and will be removed from pandas in a future version. Use pandas.concat instead.\n",
      "  df = df.append(df_2017)\n",
      "C:\\Users\\bulsa\\AppData\\Local\\Temp\\ipykernel_17116\\3189259912.py:8: FutureWarning: The frame.append method is deprecated and will be removed from pandas in a future version. Use pandas.concat instead.\n",
      "  df_2016 = df.append( pd.read_csv('Final_project/2016.csv'))\n",
      "C:\\Users\\bulsa\\AppData\\Local\\Temp\\ipykernel_17116\\3189259912.py:10: FutureWarning: The frame.append method is deprecated and will be removed from pandas in a future version. Use pandas.concat instead.\n",
      "  df = df.append(df_2016)\n"
     ]
    }
   ],
   "source": [
    "#most unrealiable day to fly in last 3 years\n",
    "df = pd.read_csv('Final_project/2018.csv')\n",
    "df = df[df['ORIGIN'].isin(['ATL','LAX','ORD','DFW','DEN','JFK','SFO','SEA','LAS','MCO'])]\n",
    "\n",
    "df_2017 = df.append( pd.read_csv('Final_project/2017.csv'))\n",
    "df_2017 = df_2017[df_2017['ORIGIN'].isin(['ATL','LAX','ORD','DFW','DEN','JFK','SFO','SEA','LAS','MCO'])]\n",
    "df = df.append(df_2017)\n",
    "\n",
    "df_2016 = df.append( pd.read_csv('Final_project/2016.csv'))\n",
    "df_2016 = df_2016[df_2016['ORIGIN'].isin(['ATL','LAX','ORD','DFW','DEN','JFK','SFO','SEA','LAS','MCO'])]\n",
    "df = df.append(df_2016)"
   ]
  },
  {
   "cell_type": "code",
   "execution_count": 4,
   "id": "2f908ea6",
   "metadata": {},
   "outputs": [
    {
     "data": {
      "text/html": [
       "<div>\n",
       "<style scoped>\n",
       "    .dataframe tbody tr th:only-of-type {\n",
       "        vertical-align: middle;\n",
       "    }\n",
       "\n",
       "    .dataframe tbody tr th {\n",
       "        vertical-align: top;\n",
       "    }\n",
       "\n",
       "    .dataframe thead th {\n",
       "        text-align: right;\n",
       "    }\n",
       "</style>\n",
       "<table border=\"1\" class=\"dataframe\">\n",
       "  <thead>\n",
       "    <tr style=\"text-align: right;\">\n",
       "      <th></th>\n",
       "      <th>ARR_DELAY</th>\n",
       "    </tr>\n",
       "    <tr>\n",
       "      <th>FL_DATE</th>\n",
       "      <th></th>\n",
       "    </tr>\n",
       "  </thead>\n",
       "  <tbody>\n",
       "    <tr>\n",
       "      <th>2016-12-17</th>\n",
       "      <td>29.0</td>\n",
       "    </tr>\n",
       "    <tr>\n",
       "      <th>2016-12-18</th>\n",
       "      <td>18.0</td>\n",
       "    </tr>\n",
       "    <tr>\n",
       "      <th>2017-01-07</th>\n",
       "      <td>16.0</td>\n",
       "    </tr>\n",
       "    <tr>\n",
       "      <th>2017-04-06</th>\n",
       "      <td>11.0</td>\n",
       "    </tr>\n",
       "    <tr>\n",
       "      <th>2017-01-02</th>\n",
       "      <td>11.0</td>\n",
       "    </tr>\n",
       "    <tr>\n",
       "      <th>2017-01-22</th>\n",
       "      <td>11.0</td>\n",
       "    </tr>\n",
       "    <tr>\n",
       "      <th>2018-12-28</th>\n",
       "      <td>8.0</td>\n",
       "    </tr>\n",
       "    <tr>\n",
       "      <th>2017-08-03</th>\n",
       "      <td>7.0</td>\n",
       "    </tr>\n",
       "    <tr>\n",
       "      <th>2017-01-08</th>\n",
       "      <td>7.0</td>\n",
       "    </tr>\n",
       "    <tr>\n",
       "      <th>2017-06-19</th>\n",
       "      <td>7.0</td>\n",
       "    </tr>\n",
       "  </tbody>\n",
       "</table>\n",
       "</div>"
      ],
      "text/plain": [
       "            ARR_DELAY\n",
       "FL_DATE              \n",
       "2016-12-17       29.0\n",
       "2016-12-18       18.0\n",
       "2017-01-07       16.0\n",
       "2017-04-06       11.0\n",
       "2017-01-02       11.0\n",
       "2017-01-22       11.0\n",
       "2018-12-28        8.0\n",
       "2017-08-03        7.0\n",
       "2017-01-08        7.0\n",
       "2017-06-19        7.0"
      ]
     },
     "execution_count": 4,
     "metadata": {},
     "output_type": "execute_result"
    }
   ],
   "source": [
    "df.groupby('FL_DATE')[['ARR_DELAY']].median().sort_values(by='ARR_DELAY',ascending=False)[:10]"
   ]
  },
  {
   "cell_type": "code",
   "execution_count": null,
   "id": "2ba0b07f",
   "metadata": {},
   "outputs": [],
   "source": []
  }
 ],
 "metadata": {
  "kernelspec": {
   "display_name": "Python 3 (ipykernel)",
   "language": "python",
   "name": "python3"
  },
  "language_info": {
   "codemirror_mode": {
    "name": "ipython",
    "version": 3
   },
   "file_extension": ".py",
   "mimetype": "text/x-python",
   "name": "python",
   "nbconvert_exporter": "python",
   "pygments_lexer": "ipython3",
   "version": "3.9.13"
  }
 },
 "nbformat": 4,
 "nbformat_minor": 5
}
