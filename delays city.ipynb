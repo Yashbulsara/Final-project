{
 "cells": [
  {
   "cell_type": "code",
   "execution_count": 5,
   "id": "681461de",
   "metadata": {},
   "outputs": [],
   "source": [
    "import pandas as pd"
   ]
  },
  {
   "cell_type": "code",
   "execution_count": 37,
   "id": "e0f699fc",
   "metadata": {},
   "outputs": [
    {
     "data": {
      "text/plain": [
       "['Final_project/2009.csv',\n",
       " 'Final_project/2010.csv',\n",
       " 'Final_project/2011.csv',\n",
       " 'Final_project/2012.csv',\n",
       " 'Final_project/2013.csv',\n",
       " 'Final_project/2014.csv',\n",
       " 'Final_project/2015.csv',\n",
       " 'Final_project/2016.csv',\n",
       " 'Final_project/2017.csv']"
      ]
     },
     "execution_count": 37,
     "metadata": {},
     "output_type": "execute_result"
    }
   ],
   "source": [
    "csv_path_files_list = []\n",
    "for i in range(2009,2018):\n",
    "    csv_path_files_list.append('Final_project/'+ str(i) +'.csv')\n",
    "    \n",
    "csv_path_files_list"
   ]
  },
  {
   "cell_type": "code",
   "execution_count": 34,
   "id": "96da6d86",
   "metadata": {},
   "outputs": [],
   "source": [
    "import matplotlib.pyplot as plt\n",
    "%matplotlib inline"
   ]
  },
  {
   "cell_type": "code",
   "execution_count": 35,
   "id": "c1789a86",
   "metadata": {},
   "outputs": [],
   "source": [
    "pd.set_option('display.max_columns', None)\n"
   ]
  },
  {
   "cell_type": "code",
   "execution_count": 36,
   "id": "42a604ae",
   "metadata": {},
   "outputs": [
    {
     "data": {
      "text/html": [
       "<div>\n",
       "<style scoped>\n",
       "    .dataframe tbody tr th:only-of-type {\n",
       "        vertical-align: middle;\n",
       "    }\n",
       "\n",
       "    .dataframe tbody tr th {\n",
       "        vertical-align: top;\n",
       "    }\n",
       "\n",
       "    .dataframe thead th {\n",
       "        text-align: right;\n",
       "    }\n",
       "</style>\n",
       "<table border=\"1\" class=\"dataframe\">\n",
       "  <thead>\n",
       "    <tr style=\"text-align: right;\">\n",
       "      <th></th>\n",
       "      <th>FL_DATE</th>\n",
       "      <th>OP_CARRIER</th>\n",
       "      <th>OP_CARRIER_FL_NUM</th>\n",
       "      <th>ORIGIN</th>\n",
       "      <th>DEST</th>\n",
       "      <th>CRS_DEP_TIME</th>\n",
       "      <th>DEP_TIME</th>\n",
       "      <th>DEP_DELAY</th>\n",
       "      <th>TAXI_OUT</th>\n",
       "      <th>WHEELS_OFF</th>\n",
       "      <th>WHEELS_ON</th>\n",
       "      <th>TAXI_IN</th>\n",
       "      <th>CRS_ARR_TIME</th>\n",
       "      <th>ARR_TIME</th>\n",
       "      <th>ARR_DELAY</th>\n",
       "      <th>CANCELLED</th>\n",
       "      <th>CANCELLATION_CODE</th>\n",
       "      <th>DIVERTED</th>\n",
       "      <th>CRS_ELAPSED_TIME</th>\n",
       "      <th>ACTUAL_ELAPSED_TIME</th>\n",
       "      <th>AIR_TIME</th>\n",
       "      <th>DISTANCE</th>\n",
       "      <th>CARRIER_DELAY</th>\n",
       "      <th>WEATHER_DELAY</th>\n",
       "      <th>NAS_DELAY</th>\n",
       "      <th>SECURITY_DELAY</th>\n",
       "      <th>LATE_AIRCRAFT_DELAY</th>\n",
       "      <th>Unnamed: 27</th>\n",
       "      <th>FL_DATE_month</th>\n",
       "      <th>FL_DATE_weekday</th>\n",
       "    </tr>\n",
       "  </thead>\n",
       "  <tbody>\n",
       "    <tr>\n",
       "      <th>7213435</th>\n",
       "      <td>2018-12-31</td>\n",
       "      <td>American Airlines</td>\n",
       "      <td>1811</td>\n",
       "      <td>CLT</td>\n",
       "      <td>TPA</td>\n",
       "      <td>1644</td>\n",
       "      <td>1639.0</td>\n",
       "      <td>-0.083333</td>\n",
       "      <td>40.0</td>\n",
       "      <td>1719.0</td>\n",
       "      <td>1836.0</td>\n",
       "      <td>3.0</td>\n",
       "      <td>1830</td>\n",
       "      <td>1839.0</td>\n",
       "      <td>0.150000</td>\n",
       "      <td>0.0</td>\n",
       "      <td>NaN</td>\n",
       "      <td>0.0</td>\n",
       "      <td>106.0</td>\n",
       "      <td>120.0</td>\n",
       "      <td>77.0</td>\n",
       "      <td>507.0</td>\n",
       "      <td>NaN</td>\n",
       "      <td>NaN</td>\n",
       "      <td>NaN</td>\n",
       "      <td>NaN</td>\n",
       "      <td>NaN</td>\n",
       "      <td>NaN</td>\n",
       "      <td>12</td>\n",
       "      <td>0</td>\n",
       "    </tr>\n",
       "    <tr>\n",
       "      <th>7213439</th>\n",
       "      <td>2018-12-31</td>\n",
       "      <td>American Airlines</td>\n",
       "      <td>1814</td>\n",
       "      <td>DFW</td>\n",
       "      <td>PHL</td>\n",
       "      <td>1955</td>\n",
       "      <td>2026.0</td>\n",
       "      <td>0.516667</td>\n",
       "      <td>12.0</td>\n",
       "      <td>2038.0</td>\n",
       "      <td>2400.0</td>\n",
       "      <td>6.0</td>\n",
       "      <td>2357</td>\n",
       "      <td>6.0</td>\n",
       "      <td>0.150000</td>\n",
       "      <td>0.0</td>\n",
       "      <td>NaN</td>\n",
       "      <td>0.0</td>\n",
       "      <td>182.0</td>\n",
       "      <td>160.0</td>\n",
       "      <td>142.0</td>\n",
       "      <td>1303.0</td>\n",
       "      <td>NaN</td>\n",
       "      <td>NaN</td>\n",
       "      <td>NaN</td>\n",
       "      <td>NaN</td>\n",
       "      <td>NaN</td>\n",
       "      <td>NaN</td>\n",
       "      <td>12</td>\n",
       "      <td>0</td>\n",
       "    </tr>\n",
       "    <tr>\n",
       "      <th>7213442</th>\n",
       "      <td>2018-12-31</td>\n",
       "      <td>American Airlines</td>\n",
       "      <td>1816</td>\n",
       "      <td>CLT</td>\n",
       "      <td>DFW</td>\n",
       "      <td>1751</td>\n",
       "      <td>1757.0</td>\n",
       "      <td>0.100000</td>\n",
       "      <td>18.0</td>\n",
       "      <td>1815.0</td>\n",
       "      <td>1943.0</td>\n",
       "      <td>10.0</td>\n",
       "      <td>1952</td>\n",
       "      <td>1953.0</td>\n",
       "      <td>0.016667</td>\n",
       "      <td>0.0</td>\n",
       "      <td>NaN</td>\n",
       "      <td>0.0</td>\n",
       "      <td>181.0</td>\n",
       "      <td>176.0</td>\n",
       "      <td>148.0</td>\n",
       "      <td>936.0</td>\n",
       "      <td>NaN</td>\n",
       "      <td>NaN</td>\n",
       "      <td>NaN</td>\n",
       "      <td>NaN</td>\n",
       "      <td>NaN</td>\n",
       "      <td>NaN</td>\n",
       "      <td>12</td>\n",
       "      <td>0</td>\n",
       "    </tr>\n",
       "    <tr>\n",
       "      <th>7213443</th>\n",
       "      <td>2018-12-31</td>\n",
       "      <td>American Airlines</td>\n",
       "      <td>1817</td>\n",
       "      <td>CLT</td>\n",
       "      <td>MEM</td>\n",
       "      <td>2015</td>\n",
       "      <td>2010.0</td>\n",
       "      <td>-0.083333</td>\n",
       "      <td>36.0</td>\n",
       "      <td>2046.0</td>\n",
       "      <td>2114.0</td>\n",
       "      <td>4.0</td>\n",
       "      <td>2107</td>\n",
       "      <td>2118.0</td>\n",
       "      <td>0.183333</td>\n",
       "      <td>0.0</td>\n",
       "      <td>NaN</td>\n",
       "      <td>0.0</td>\n",
       "      <td>112.0</td>\n",
       "      <td>128.0</td>\n",
       "      <td>88.0</td>\n",
       "      <td>511.0</td>\n",
       "      <td>NaN</td>\n",
       "      <td>NaN</td>\n",
       "      <td>NaN</td>\n",
       "      <td>NaN</td>\n",
       "      <td>NaN</td>\n",
       "      <td>NaN</td>\n",
       "      <td>12</td>\n",
       "      <td>0</td>\n",
       "    </tr>\n",
       "    <tr>\n",
       "      <th>7213444</th>\n",
       "      <td>2018-12-31</td>\n",
       "      <td>American Airlines</td>\n",
       "      <td>1818</td>\n",
       "      <td>CLT</td>\n",
       "      <td>RDU</td>\n",
       "      <td>1300</td>\n",
       "      <td>1323.0</td>\n",
       "      <td>0.383333</td>\n",
       "      <td>11.0</td>\n",
       "      <td>1334.0</td>\n",
       "      <td>1400.0</td>\n",
       "      <td>4.0</td>\n",
       "      <td>1350</td>\n",
       "      <td>1404.0</td>\n",
       "      <td>0.233333</td>\n",
       "      <td>0.0</td>\n",
       "      <td>NaN</td>\n",
       "      <td>0.0</td>\n",
       "      <td>50.0</td>\n",
       "      <td>41.0</td>\n",
       "      <td>26.0</td>\n",
       "      <td>130.0</td>\n",
       "      <td>NaN</td>\n",
       "      <td>NaN</td>\n",
       "      <td>NaN</td>\n",
       "      <td>NaN</td>\n",
       "      <td>NaN</td>\n",
       "      <td>NaN</td>\n",
       "      <td>12</td>\n",
       "      <td>0</td>\n",
       "    </tr>\n",
       "  </tbody>\n",
       "</table>\n",
       "</div>"
      ],
      "text/plain": [
       "            FL_DATE         OP_CARRIER  OP_CARRIER_FL_NUM ORIGIN DEST  \\\n",
       "7213435  2018-12-31  American Airlines               1811    CLT  TPA   \n",
       "7213439  2018-12-31  American Airlines               1814    DFW  PHL   \n",
       "7213442  2018-12-31  American Airlines               1816    CLT  DFW   \n",
       "7213443  2018-12-31  American Airlines               1817    CLT  MEM   \n",
       "7213444  2018-12-31  American Airlines               1818    CLT  RDU   \n",
       "\n",
       "         CRS_DEP_TIME  DEP_TIME  DEP_DELAY  TAXI_OUT  WHEELS_OFF  WHEELS_ON  \\\n",
       "7213435          1644    1639.0  -0.083333      40.0      1719.0     1836.0   \n",
       "7213439          1955    2026.0   0.516667      12.0      2038.0     2400.0   \n",
       "7213442          1751    1757.0   0.100000      18.0      1815.0     1943.0   \n",
       "7213443          2015    2010.0  -0.083333      36.0      2046.0     2114.0   \n",
       "7213444          1300    1323.0   0.383333      11.0      1334.0     1400.0   \n",
       "\n",
       "         TAXI_IN  CRS_ARR_TIME  ARR_TIME  ARR_DELAY  CANCELLED  \\\n",
       "7213435      3.0          1830    1839.0   0.150000        0.0   \n",
       "7213439      6.0          2357       6.0   0.150000        0.0   \n",
       "7213442     10.0          1952    1953.0   0.016667        0.0   \n",
       "7213443      4.0          2107    2118.0   0.183333        0.0   \n",
       "7213444      4.0          1350    1404.0   0.233333        0.0   \n",
       "\n",
       "        CANCELLATION_CODE  DIVERTED  CRS_ELAPSED_TIME  ACTUAL_ELAPSED_TIME  \\\n",
       "7213435               NaN       0.0             106.0                120.0   \n",
       "7213439               NaN       0.0             182.0                160.0   \n",
       "7213442               NaN       0.0             181.0                176.0   \n",
       "7213443               NaN       0.0             112.0                128.0   \n",
       "7213444               NaN       0.0              50.0                 41.0   \n",
       "\n",
       "         AIR_TIME  DISTANCE  CARRIER_DELAY  WEATHER_DELAY  NAS_DELAY  \\\n",
       "7213435      77.0     507.0            NaN            NaN        NaN   \n",
       "7213439     142.0    1303.0            NaN            NaN        NaN   \n",
       "7213442     148.0     936.0            NaN            NaN        NaN   \n",
       "7213443      88.0     511.0            NaN            NaN        NaN   \n",
       "7213444      26.0     130.0            NaN            NaN        NaN   \n",
       "\n",
       "         SECURITY_DELAY  LATE_AIRCRAFT_DELAY  Unnamed: 27  FL_DATE_month  \\\n",
       "7213435             NaN                  NaN          NaN             12   \n",
       "7213439             NaN                  NaN          NaN             12   \n",
       "7213442             NaN                  NaN          NaN             12   \n",
       "7213443             NaN                  NaN          NaN             12   \n",
       "7213444             NaN                  NaN          NaN             12   \n",
       "\n",
       "         FL_DATE_weekday  \n",
       "7213435                0  \n",
       "7213439                0  \n",
       "7213442                0  \n",
       "7213443                0  \n",
       "7213444                0  "
      ]
     },
     "execution_count": 36,
     "metadata": {},
     "output_type": "execute_result"
    }
   ],
   "source": [
    "df.tail()"
   ]
  },
  {
   "cell_type": "code",
   "execution_count": 14,
   "id": "c9d5cc97",
   "metadata": {},
   "outputs": [],
   "source": [
    "\n",
    "df['OP_CARRIER'].replace({\n",
    "    'UA':'United Airlines',\n",
    "    'AS':'Alaska Airlines',\n",
    "    '9E':'Endeavor Air',\n",
    "    'B6':'JetBlue Airways',\n",
    "    'EV':'ExpressJet',\n",
    "    'F9':'Frontier Airlines',\n",
    "    'G4':'Allegiant Air',\n",
    "    'HA':'Hawaiian Airlines',\n",
    "    'MQ':'Envoy Air',\n",
    "    'NK':'Spirit Airlines',\n",
    "    'OH':'PSA Airlines',\n",
    "    'OO':'SkyWest Airlines',\n",
    "    'VX':'Virgin America',\n",
    "    'WN':'Southwest Airlines',\n",
    "    'YV':'Mesa Airline',\n",
    "    'YX':'Republic Airways',\n",
    "    'AA':'American Airlines',\n",
    "    'DL':'Delta Airlines'\n",
    "},inplace=True)"
   ]
  },
  {
   "cell_type": "code",
   "execution_count": 15,
   "id": "5f90d8e3",
   "metadata": {},
   "outputs": [
    {
     "data": {
      "text/plain": [
       "array(['United Airlines', 'Alaska Airlines', 'Endeavor Air',\n",
       "       'JetBlue Airways', 'ExpressJet', 'Frontier Airlines',\n",
       "       'Allegiant Air', 'Hawaiian Airlines', 'Envoy Air',\n",
       "       'Spirit Airlines', 'PSA Airlines', 'SkyWest Airlines',\n",
       "       'Virgin America', 'Southwest Airlines', 'Mesa Airline',\n",
       "       'Republic Airways', 'American Airlines', 'Delta Airlines'],\n",
       "      dtype=object)"
      ]
     },
     "execution_count": 15,
     "metadata": {},
     "output_type": "execute_result"
    }
   ],
   "source": [
    "df.OP_CARRIER.unique()"
   ]
  },
  {
   "cell_type": "code",
   "execution_count": 16,
   "id": "821e9eea",
   "metadata": {},
   "outputs": [
    {
     "data": {
      "text/plain": [
       "116584.0"
      ]
     },
     "execution_count": 16,
     "metadata": {},
     "output_type": "execute_result"
    }
   ],
   "source": [
    "df.CANCELLED.sum()"
   ]
  },
  {
   "cell_type": "code",
   "execution_count": 17,
   "id": "5c39acd0",
   "metadata": {},
   "outputs": [],
   "source": [
    "canceled = df[(df['CANCELLED'] > 0)]"
   ]
  },
  {
   "cell_type": "code",
   "execution_count": 18,
   "id": "c59a9dc3",
   "metadata": {},
   "outputs": [
    {
     "data": {
      "text/html": [
       "<div>\n",
       "<style scoped>\n",
       "    .dataframe tbody tr th:only-of-type {\n",
       "        vertical-align: middle;\n",
       "    }\n",
       "\n",
       "    .dataframe tbody tr th {\n",
       "        vertical-align: top;\n",
       "    }\n",
       "\n",
       "    .dataframe thead th {\n",
       "        text-align: right;\n",
       "    }\n",
       "</style>\n",
       "<table border=\"1\" class=\"dataframe\">\n",
       "  <thead>\n",
       "    <tr style=\"text-align: right;\">\n",
       "      <th></th>\n",
       "      <th>FL_DATE</th>\n",
       "      <th>OP_CARRIER</th>\n",
       "      <th>OP_CARRIER_FL_NUM</th>\n",
       "      <th>ORIGIN</th>\n",
       "      <th>DEST</th>\n",
       "      <th>CRS_DEP_TIME</th>\n",
       "      <th>DEP_TIME</th>\n",
       "      <th>DEP_DELAY</th>\n",
       "      <th>TAXI_OUT</th>\n",
       "      <th>WHEELS_OFF</th>\n",
       "      <th>WHEELS_ON</th>\n",
       "      <th>TAXI_IN</th>\n",
       "      <th>CRS_ARR_TIME</th>\n",
       "      <th>ARR_TIME</th>\n",
       "      <th>ARR_DELAY</th>\n",
       "      <th>CANCELLED</th>\n",
       "      <th>CANCELLATION_CODE</th>\n",
       "      <th>DIVERTED</th>\n",
       "      <th>CRS_ELAPSED_TIME</th>\n",
       "      <th>ACTUAL_ELAPSED_TIME</th>\n",
       "      <th>AIR_TIME</th>\n",
       "      <th>DISTANCE</th>\n",
       "      <th>CARRIER_DELAY</th>\n",
       "      <th>WEATHER_DELAY</th>\n",
       "      <th>NAS_DELAY</th>\n",
       "      <th>SECURITY_DELAY</th>\n",
       "      <th>LATE_AIRCRAFT_DELAY</th>\n",
       "      <th>Unnamed: 27</th>\n",
       "    </tr>\n",
       "  </thead>\n",
       "  <tbody>\n",
       "    <tr>\n",
       "      <th>178</th>\n",
       "      <td>2018-01-01</td>\n",
       "      <td>United Airlines</td>\n",
       "      <td>2034</td>\n",
       "      <td>IAH</td>\n",
       "      <td>MFE</td>\n",
       "      <td>1440</td>\n",
       "      <td>NaN</td>\n",
       "      <td>NaN</td>\n",
       "      <td>NaN</td>\n",
       "      <td>NaN</td>\n",
       "      <td>NaN</td>\n",
       "      <td>NaN</td>\n",
       "      <td>1601</td>\n",
       "      <td>NaN</td>\n",
       "      <td>NaN</td>\n",
       "      <td>1.0</td>\n",
       "      <td>B</td>\n",
       "      <td>0.0</td>\n",
       "      <td>81.0</td>\n",
       "      <td>NaN</td>\n",
       "      <td>NaN</td>\n",
       "      <td>316.0</td>\n",
       "      <td>NaN</td>\n",
       "      <td>NaN</td>\n",
       "      <td>NaN</td>\n",
       "      <td>NaN</td>\n",
       "      <td>NaN</td>\n",
       "      <td>NaN</td>\n",
       "    </tr>\n",
       "    <tr>\n",
       "      <th>875</th>\n",
       "      <td>2018-01-01</td>\n",
       "      <td>United Airlines</td>\n",
       "      <td>864</td>\n",
       "      <td>LAS</td>\n",
       "      <td>SFO</td>\n",
       "      <td>1744</td>\n",
       "      <td>NaN</td>\n",
       "      <td>NaN</td>\n",
       "      <td>NaN</td>\n",
       "      <td>NaN</td>\n",
       "      <td>NaN</td>\n",
       "      <td>NaN</td>\n",
       "      <td>1926</td>\n",
       "      <td>NaN</td>\n",
       "      <td>NaN</td>\n",
       "      <td>1.0</td>\n",
       "      <td>A</td>\n",
       "      <td>0.0</td>\n",
       "      <td>102.0</td>\n",
       "      <td>NaN</td>\n",
       "      <td>NaN</td>\n",
       "      <td>414.0</td>\n",
       "      <td>NaN</td>\n",
       "      <td>NaN</td>\n",
       "      <td>NaN</td>\n",
       "      <td>NaN</td>\n",
       "      <td>NaN</td>\n",
       "      <td>NaN</td>\n",
       "    </tr>\n",
       "    <tr>\n",
       "      <th>1244</th>\n",
       "      <td>2018-01-01</td>\n",
       "      <td>United Airlines</td>\n",
       "      <td>488</td>\n",
       "      <td>MFE</td>\n",
       "      <td>IAH</td>\n",
       "      <td>1726</td>\n",
       "      <td>NaN</td>\n",
       "      <td>NaN</td>\n",
       "      <td>NaN</td>\n",
       "      <td>NaN</td>\n",
       "      <td>NaN</td>\n",
       "      <td>NaN</td>\n",
       "      <td>1844</td>\n",
       "      <td>NaN</td>\n",
       "      <td>NaN</td>\n",
       "      <td>1.0</td>\n",
       "      <td>B</td>\n",
       "      <td>0.0</td>\n",
       "      <td>78.0</td>\n",
       "      <td>NaN</td>\n",
       "      <td>NaN</td>\n",
       "      <td>316.0</td>\n",
       "      <td>NaN</td>\n",
       "      <td>NaN</td>\n",
       "      <td>NaN</td>\n",
       "      <td>NaN</td>\n",
       "      <td>NaN</td>\n",
       "      <td>NaN</td>\n",
       "    </tr>\n",
       "  </tbody>\n",
       "</table>\n",
       "</div>"
      ],
      "text/plain": [
       "         FL_DATE       OP_CARRIER  OP_CARRIER_FL_NUM ORIGIN DEST  \\\n",
       "178   2018-01-01  United Airlines               2034    IAH  MFE   \n",
       "875   2018-01-01  United Airlines                864    LAS  SFO   \n",
       "1244  2018-01-01  United Airlines                488    MFE  IAH   \n",
       "\n",
       "      CRS_DEP_TIME  DEP_TIME  DEP_DELAY  TAXI_OUT  WHEELS_OFF  WHEELS_ON  \\\n",
       "178           1440       NaN        NaN       NaN         NaN        NaN   \n",
       "875           1744       NaN        NaN       NaN         NaN        NaN   \n",
       "1244          1726       NaN        NaN       NaN         NaN        NaN   \n",
       "\n",
       "      TAXI_IN  CRS_ARR_TIME  ARR_TIME  ARR_DELAY  CANCELLED CANCELLATION_CODE  \\\n",
       "178       NaN          1601       NaN        NaN        1.0                 B   \n",
       "875       NaN          1926       NaN        NaN        1.0                 A   \n",
       "1244      NaN          1844       NaN        NaN        1.0                 B   \n",
       "\n",
       "      DIVERTED  CRS_ELAPSED_TIME  ACTUAL_ELAPSED_TIME  AIR_TIME  DISTANCE  \\\n",
       "178        0.0              81.0                  NaN       NaN     316.0   \n",
       "875        0.0             102.0                  NaN       NaN     414.0   \n",
       "1244       0.0              78.0                  NaN       NaN     316.0   \n",
       "\n",
       "      CARRIER_DELAY  WEATHER_DELAY  NAS_DELAY  SECURITY_DELAY  \\\n",
       "178             NaN            NaN        NaN             NaN   \n",
       "875             NaN            NaN        NaN             NaN   \n",
       "1244            NaN            NaN        NaN             NaN   \n",
       "\n",
       "      LATE_AIRCRAFT_DELAY  Unnamed: 27  \n",
       "178                   NaN          NaN  \n",
       "875                   NaN          NaN  \n",
       "1244                  NaN          NaN  "
      ]
     },
     "execution_count": 18,
     "metadata": {},
     "output_type": "execute_result"
    }
   ],
   "source": [
    "canceled.head(3)\n"
   ]
  },
  {
   "cell_type": "code",
   "execution_count": 19,
   "id": "18ab2c01",
   "metadata": {},
   "outputs": [
    {
     "data": {
      "text/plain": [
       "0    -5.0\n",
       "1    -8.0\n",
       "2    -5.0\n",
       "3     6.0\n",
       "4    20.0\n",
       "Name: DEP_DELAY, dtype: float64"
      ]
     },
     "execution_count": 19,
     "metadata": {},
     "output_type": "execute_result"
    }
   ],
   "source": [
    "# Departure delay data (in minutes)\n",
    "df.DEP_DELAY.head()"
   ]
  },
  {
   "cell_type": "code",
   "execution_count": 20,
   "id": "508f6c63",
   "metadata": {},
   "outputs": [
    {
     "data": {
      "text/plain": [
       "0   -23.0\n",
       "1   -24.0\n",
       "2   -13.0\n",
       "3    -2.0\n",
       "4    14.0\n",
       "Name: ARR_DELAY, dtype: float64"
      ]
     },
     "execution_count": 20,
     "metadata": {},
     "output_type": "execute_result"
    }
   ],
   "source": [
    "df.ARR_DELAY.head()"
   ]
  },
  {
   "cell_type": "code",
   "execution_count": 21,
   "id": "069575ee",
   "metadata": {},
   "outputs": [
    {
     "data": {
      "text/plain": [
       "FL_DATE                2516050\n",
       "OP_CARRIER             2516050\n",
       "OP_CARRIER_FL_NUM      2516050\n",
       "ORIGIN                 2516050\n",
       "DEST                   2516050\n",
       "CRS_DEP_TIME           2516050\n",
       "DEP_TIME               2516050\n",
       "DEP_DELAY              2514853\n",
       "TAXI_OUT               2516050\n",
       "WHEELS_OFF             2516050\n",
       "WHEELS_ON              2516050\n",
       "TAXI_IN                2516050\n",
       "CRS_ARR_TIME           2516050\n",
       "ARR_TIME               2516050\n",
       "ARR_DELAY              2516050\n",
       "CANCELLED              2516050\n",
       "CANCELLATION_CODE            0\n",
       "DIVERTED               2516050\n",
       "CRS_ELAPSED_TIME       2516050\n",
       "ACTUAL_ELAPSED_TIME    2516049\n",
       "AIR_TIME               2516049\n",
       "DISTANCE               2516050\n",
       "CARRIER_DELAY          1352710\n",
       "WEATHER_DELAY          1352710\n",
       "NAS_DELAY              1352710\n",
       "SECURITY_DELAY         1352710\n",
       "LATE_AIRCRAFT_DELAY    1352710\n",
       "Unnamed: 27                  0\n",
       "dtype: int64"
      ]
     },
     "execution_count": 21,
     "metadata": {},
     "output_type": "execute_result"
    }
   ],
   "source": [
    "df[df.ARR_DELAY > 0 ].count()"
   ]
  },
  {
   "cell_type": "code",
   "execution_count": 22,
   "id": "dcaaa2a8",
   "metadata": {},
   "outputs": [],
   "source": [
    "# Filter out non-delayed flights < 0 DEP_DELAY\n",
    "df = df[(df['ARR_DELAY'] > 0)]"
   ]
  },
  {
   "cell_type": "code",
   "execution_count": 23,
   "id": "2638ad6d",
   "metadata": {},
   "outputs": [
    {
     "name": "stderr",
     "output_type": "stream",
     "text": [
      "C:\\Users\\bulsa\\AppData\\Local\\Temp\\ipykernel_9612\\592075458.py:2: SettingWithCopyWarning: \n",
      "A value is trying to be set on a copy of a slice from a DataFrame.\n",
      "Try using .loc[row_indexer,col_indexer] = value instead\n",
      "\n",
      "See the caveats in the documentation: https://pandas.pydata.org/pandas-docs/stable/user_guide/indexing.html#returning-a-view-versus-a-copy\n",
      "  df['ARR_DELAY'] = df['ARR_DELAY'] / 60\n",
      "C:\\Users\\bulsa\\AppData\\Local\\Temp\\ipykernel_9612\\592075458.py:5: SettingWithCopyWarning: \n",
      "A value is trying to be set on a copy of a slice from a DataFrame.\n",
      "Try using .loc[row_indexer,col_indexer] = value instead\n",
      "\n",
      "See the caveats in the documentation: https://pandas.pydata.org/pandas-docs/stable/user_guide/indexing.html#returning-a-view-versus-a-copy\n",
      "  df['DEP_DELAY'] = df['DEP_DELAY'] / 60\n"
     ]
    }
   ],
   "source": [
    "# Minutes to hours \n",
    "df['ARR_DELAY'] = df['ARR_DELAY'] / 60\n",
    "\n",
    "# Minutes to hours \n",
    "df['DEP_DELAY'] = df['DEP_DELAY'] / 60"
   ]
  },
  {
   "cell_type": "code",
   "execution_count": 24,
   "id": "342fec8c",
   "metadata": {},
   "outputs": [
    {
     "data": {
      "text/plain": [
       "pandas.core.series.Series"
      ]
     },
     "execution_count": 24,
     "metadata": {},
     "output_type": "execute_result"
    }
   ],
   "source": [
    "type(df['FL_DATE'])"
   ]
  },
  {
   "cell_type": "code",
   "execution_count": 25,
   "id": "a3831e8b",
   "metadata": {},
   "outputs": [
    {
     "data": {
      "text/plain": [
       "4         2018-01-01\n",
       "11        2018-01-01\n",
       "14        2018-01-01\n",
       "15        2018-01-01\n",
       "16        2018-01-01\n",
       "             ...    \n",
       "7213435   2018-12-31\n",
       "7213439   2018-12-31\n",
       "7213442   2018-12-31\n",
       "7213443   2018-12-31\n",
       "7213444   2018-12-31\n",
       "Name: FL_DATE, Length: 2516050, dtype: datetime64[ns]"
      ]
     },
     "execution_count": 25,
     "metadata": {},
     "output_type": "execute_result"
    }
   ],
   "source": [
    "# Convert string to DateTime\n",
    "pd.to_datetime(df.FL_DATE)"
   ]
  },
  {
   "cell_type": "code",
   "execution_count": 27,
   "id": "4ee113db",
   "metadata": {},
   "outputs": [
    {
     "name": "stderr",
     "output_type": "stream",
     "text": [
      "C:\\Users\\bulsa\\AppData\\Local\\Temp\\ipykernel_9612\\1902689738.py:2: SettingWithCopyWarning: \n",
      "A value is trying to be set on a copy of a slice from a DataFrame.\n",
      "Try using .loc[row_indexer,col_indexer] = value instead\n",
      "\n",
      "See the caveats in the documentation: https://pandas.pydata.org/pandas-docs/stable/user_guide/indexing.html#returning-a-view-versus-a-copy\n",
      "  df['FL_DATE_month'] = pd.to_datetime(df['FL_DATE']).dt.month\n",
      "C:\\Users\\bulsa\\AppData\\Local\\Temp\\ipykernel_9612\\1902689738.py:4: SettingWithCopyWarning: \n",
      "A value is trying to be set on a copy of a slice from a DataFrame.\n",
      "Try using .loc[row_indexer,col_indexer] = value instead\n",
      "\n",
      "See the caveats in the documentation: https://pandas.pydata.org/pandas-docs/stable/user_guide/indexing.html#returning-a-view-versus-a-copy\n",
      "  df['FL_DATE_weekday'] = pd.to_datetime(df['FL_DATE']).dt.weekday\n"
     ]
    }
   ],
   "source": [
    "# Month variable\n",
    "df['FL_DATE_month'] = pd.to_datetime(df['FL_DATE']).dt.month\n",
    "# Weekday variable\n",
    "df['FL_DATE_weekday'] = pd.to_datetime(df['FL_DATE']).dt.weekday"
   ]
  },
  {
   "cell_type": "code",
   "execution_count": 28,
   "id": "ab4ab457",
   "metadata": {},
   "outputs": [],
   "source": [
    "import matplotlib.pyplot as plt\n",
    "%matplotlib inline"
   ]
  },
  {
   "cell_type": "code",
   "execution_count": 29,
   "id": "dc2154f7",
   "metadata": {},
   "outputs": [
    {
     "data": {
      "image/png": "[encoded data removed]",
      "text/plain": [
       "<Figure size 2500x1200 with 2 Axes>"
      ]
     },
     "metadata": {},
     "output_type": "display_data"
    }
   ],
   "source": [
    "# Arrival and departure delays by month of the year\n",
    "plt.figure(figsize=(25, 12)).subplots_adjust(hspace = 0.5)\n",
    "\n",
    "plt.subplot(2, 2 ,1)\n",
    "df.groupby('FL_DATE_month').ARR_DELAY.sum().plot.bar().set_title('ARRIVAL delays by month')\n",
    "plt.title('ARRIVAL delays by month', fontsize=16)\n",
    "plt.ylabel('Hours', fontsize=14)\n",
    "plt.xlabel('Month of the year', fontsize=14)\n",
    "\n",
    "plt.subplot(2, 2 ,2)\n",
    "df.groupby('FL_DATE_month').DEP_DELAY.sum().plot.bar()\n",
    "plt.title('DEPARTURE delays by month', fontsize=16)\n",
    "plt.ylabel('Hours', fontsize=14)\n",
    "plt.xlabel('Month of the year', fontsize=14)\n",
    "\n",
    "plt.show()\n"
   ]
  },
  {
   "cell_type": "code",
   "execution_count": 30,
   "id": "cdaf42e1",
   "metadata": {},
   "outputs": [
    {
     "data": {
      "image/png": "[encoded data removed]",
      "text/plain": [
       "<Figure size 2000x600 with 1 Axes>"
      ]
     },
     "metadata": {},
     "output_type": "display_data"
    }
   ],
   "source": [
    "# Delays by airlines\n",
    "plt.figure(figsize=(20, 6))\n",
    "df.groupby('OP_CARRIER').ARR_DELAY.sum().sort_values(ascending=False).plot.bar()\n",
    "plt.title('Delays by AIRLINES', fontsize=16)\n",
    "plt.xlabel('Airline', fontsize=14)\n",
    "plt.ylabel('Hours', fontsize=14)\n",
    "plt.show()"
   ]
  },
  {
   "cell_type": "code",
   "execution_count": 31,
   "id": "eb1a42e0",
   "metadata": {},
   "outputs": [
    {
     "data": {
      "image/png": "[encoded data removed]",
      "text/plain": [
       "<Figure size 2000x600 with 1 Axes>"
      ]
     },
     "metadata": {},
     "output_type": "display_data"
    }
   ],
   "source": [
    "# Delays by City\n",
    "city_by_delay = df.groupby('ORIGIN').ARR_DELAY.sum().sort_values(ascending=False)\n",
    "plt.figure(figsize=(20, 6))\n",
    "city_by_delay[:15].plot.bar()\n",
    "plt.title('Delays by City', fontsize=16)\n",
    "plt.xlabel('City', fontsize=14)\n",
    "plt.ylabel('Hours', fontsize=14)\n",
    "plt.show()"
   ]
  },
  {
   "cell_type": "code",
   "execution_count": null,
   "id": "5cd6920e",
   "metadata": {},
   "outputs": [],
   "source": []
  }
 ],
 "metadata": {
  "kernelspec": {
   "display_name": "Python 3 (ipykernel)",
   "language": "python",
   "name": "python3"
  },
  "language_info": {
   "codemirror_mode": {
    "name": "ipython",
    "version": 3
   },
   "file_extension": ".py",
   "mimetype": "text/x-python",
   "name": "python",
   "nbconvert_exporter": "python",
   "pygments_lexer": "ipython3",
   "version": "3.9.13"
  }
 },
 "nbformat": 4,
 "nbformat_minor": 5
}
